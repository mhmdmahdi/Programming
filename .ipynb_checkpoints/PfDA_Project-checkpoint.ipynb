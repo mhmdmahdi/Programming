{
 "cells": [
  {
   "cell_type": "markdown",
   "id": "23ed1138",
   "metadata": {},
   "source": [
    "Project - 20Nov2022\n",
    "Simply put the purpose of this project is to examine a number of variables that have a direct impact on an outcome (another variable). These variables are to be taken from real world data. An example of the minimum data required from the example given in the project description is to use at least 4 variables, e.g. 'w', 'x', 'y' and 'z' and examine their impact on an outcome variable 'v'.\n",
    "A random generator is then used to simulate new data (the dice roll example taken from 'Fundamentals of Data Analytics' can be used as a reference or even the 'pie' generator once this can be linked to an outcome that will provide realistic information required for 'x', 'y' and 'z' which in turn will provide an outcome for 'v' every time the code is executed). I may build my own generator if I find I have time otherwise I may utilise one of the python packages. \n",
    "I will then analyse this data by utilising statistical models and plots available. I should also figure out which distribution is applicable.\n",
    "\n",
    "1. Choose a data set\n",
    "2. Investigate the relationship of the 4 variables to each other and to an outcome\n",
    "3. Synthesize/ simulate data based on the data set - use a random generator\n",
    "4. Analyse again as per point 2 and details any correlations\n",
    "\n",
    "Timeline\n"
   ]
  }
 ],
 "metadata": {
  "kernelspec": {
   "display_name": "Python 3 (ipykernel)",
   "language": "python",
   "name": "python3"
  },
  "language_info": {
   "codemirror_mode": {
    "name": "ipython",
    "version": 3
   },
   "file_extension": ".py",
   "mimetype": "text/x-python",
   "name": "python",
   "nbconvert_exporter": "python",
   "pygments_lexer": "ipython3",
   "version": "3.9.13"
  }
 },
 "nbformat": 4,
 "nbformat_minor": 5
}
